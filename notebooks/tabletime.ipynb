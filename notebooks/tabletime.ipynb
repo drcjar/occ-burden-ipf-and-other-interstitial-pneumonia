{
 "cells": [
  {
   "cell_type": "code",
   "execution_count": 6,
   "metadata": {
    "collapsed": true
   },
   "outputs": [],
   "source": [
    "import pandas as pd"
   ]
  },
  {
   "cell_type": "code",
   "execution_count": 7,
   "metadata": {
    "collapsed": true
   },
   "outputs": [],
   "source": [
    "pd.set_option('display.max_colwidth', -1)"
   ]
  },
  {
   "cell_type": "code",
   "execution_count": 8,
   "metadata": {
    "collapsed": false
   },
   "outputs": [],
   "source": [
    "tables = !ls ../metaanalysis/tables/"
   ]
  },
  {
   "cell_type": "code",
   "execution_count": 9,
   "metadata": {
    "collapsed": false
   },
   "outputs": [
    {
     "data": {
      "text/plain": [
       "['agriculturaldusttable.csv',\n",
       " 'anydusttable.csv',\n",
       " 'metaldusttable.csv',\n",
       " 'pooled.csv',\n",
       " 'wooddusttable.csv']"
      ]
     },
     "execution_count": 9,
     "metadata": {},
     "output_type": "execute_result"
    }
   ],
   "source": [
    "tables"
   ]
  },
  {
   "cell_type": "code",
   "execution_count": 10,
   "metadata": {
    "collapsed": false
   },
   "outputs": [
    {
     "name": "stdout",
     "output_type": "stream",
     "text": [
      "agriculturaldusttable.csv\n",
      "\\begin{tabular}{lllll}\n",
      "\\toprule\n",
      "First author, year & Cases exposed \\textbackslashnn/N (\\%) & OR or PMR\\textbackslashn(95\\% CI) &     PAR &                                                                                 Notes \\\\\n",
      "\\midrule\n",
      " Scott, 1990 &  5/40 (13) &  10.89 (1.24-96.0) &  12.00\\% &  cattle exposure; controls matched for age and sex \\\\\n",
      " Iwai, 1994 &  n/86 (\\%) &  3.01 (1.29-7.43) &  x\\% &  agricultural area residence; healthy controls matched for sex, age, residential area \\\\\n",
      " Baumgartner, 2000 &  44/240 (18) &  1.6 (1.0-2.5) &  7.00\\% &  farming; adjusted for age and smoking \\\\\n",
      " Miyake, 2005 &  7/102 (7) &  0.55 (0.16-1.89) &  NaN &  farming, fishing, or forestry; adjusted for age, sex, and region \\\\\n",
      " Awadalla, 2012 &  20/95 (21) &  1.00 (0.44-2.28) &  NaN &  men; adjusted for age, residence, smoking \\\\\n",
      " Awadalla, 2012 &  22/106 (21) &  3.34 (1.17-10.12) &  15.00\\% &  women; adjusted for age, residence, smoking \\\\\n",
      "\\bottomrule\n",
      "\\end{tabular}\n",
      "\n",
      "anydusttable.csv\n",
      "\\begin{tabular}{lllll}\n",
      "\\toprule\n",
      "           First author, year & Cases exposed \\textbackslashnn/N (\\%) & OR or PMR\\textbackslashn(95\\% CI) &     PAR &                                                                                                                                                                                Notes \\\\\n",
      "\\midrule\n",
      " Scott, 1990 &  27/40 (68) &  1.32 (0.84-2.04) &  16.00\\% &  controls matched for age and sex \\\\\n",
      " Iwai, 1994 &  n/615 (\\%) &  2.0 (1.16-3.08) &  x\\% &  autopsy; includes acute, chronic, and unknown time course cases; dust and organic solvent vapor related jobs; non-respiratory death controls matched for sex, age, residential area \\\\\n",
      " Mullen, 1998 &  6/15 (40) &  2.37 (0.67-8.44) &  23.00\\% &  controls matched for age and sex \\\\\n",
      " Miyake, 2005 &  33/102 (32) &  5.61 (2.12-17.89) &  26.00\\% &  adjusted for age, sex, and region \\\\\n",
      " Gustafson, 2007 &  86/140 (61) &  1.1 (0.71-1.72) &  6.00\\% &  “any occupational exposure”; stratified by sex, year of diagnosis, birth year, and smoking \\\\\n",
      " Garcia-Sancho Figueroa, 2010 &  55/97 (57) &  1.2 (0.8-1.9) &  10.00\\% &  matching criteria not mentioned; controls with resp disease \\\\\n",
      " Garcia-Sancho, 2011 &  77/100 (77) &  2.8 (1.5-5.5) &  50.00\\% &  “dusts/smokes/gases or chemicals”; healthy controls matched for residence, age, sex, ethnic origin; adjusted for other predictive variables (fam hx, former smoker, GERD, DM2) \\\\\n",
      " Koo, 2017 &  43/78 (55) &  2.7 (0.65-10.93) &  35.00\\% &  matched for age, sex, place of residence, model adjusted for environmental exposure, military exposure, and smoking \\\\\n",
      "\\bottomrule\n",
      "\\end{tabular}\n",
      "\n",
      "metaldusttable.csv\n",
      "\\begin{tabular}{lllll}\n",
      "\\toprule\n",
      "First author, year & Cases exposed \\textbackslashnn/N (\\%) & OR or PMR\\textbackslashn(95\\% CI) &     PAR &                                                                                                                Notes \\\\\n",
      "\\midrule\n",
      " Scott, 1990 &  6/40 (15) &  10.97 (2.30-52.4) &  14.00\\% &  controls matched for age and sex \\\\\n",
      " Iwai, 1994 &  n/86 (\\%) &  1.34 (1.14-1.59) &  x\\% &  Cd, Cr, Pb, Zn metal production and mine workers; healthy controls matched for sex, age, residential area \\\\\n",
      " Hubbard, 1996 &  54/218 (25) &  1.68 (1.07-2.65) &  10.30\\% &  questionnaire; adjusted for smoking and exposure to wood dust; PAR reported by authors \\\\\n",
      " Hubbard 2000 &  13/22 (59) &  1.08 (0.44-2.65) &  4.00\\% &  adjusted for age and sex; mortality study \\\\\n",
      " Baumgartner 2000 &  25/248 (10) &  2.0 (1.0-4.0) &  5.00\\% &  adjusted for age and smoking \\\\\n",
      " Miyake 2005 &  12/102 (12) &  9.55 (1.68-181.12) &  11.00\\% &  adjusted for age, sex, and region \\\\\n",
      " Gustafson 2007 &  25/140 (18) &  0.9 (0.51-1.59) &  NaN &  stratified by sex, year of diagnosis, birth year, and smoking \\\\\n",
      " Awadalla 2012 &  17/95 (18) &  1.58 (0.69-3.61) &  7.00\\% &  men; adjusted for age, residence, smoking \\\\\n",
      " Paolocci, 2013 &  9/65 (14) &  2.80 (1.08-7.23) &  9.00\\% &  adjusted for age, gender, smoking \\\\\n",
      " Koo 2017 &  21/78 (27) &  4.97 (1.36-18.17) &  22.00\\% &  matched for age, sex, place of residence, model adjusted for environmental exposure, military exposure, and smoking \\\\\n",
      "\\bottomrule\n",
      "\\end{tabular}\n",
      "\n",
      "pooled.csv\n",
      "\\begin{tabular}{lrll}\n",
      "\\toprule\n",
      "          Exposure &  Risk Estimates \\textbackslashn(n) & Pooled OR \\textbackslashn(95\\% CI) & Pooled PAF\\% \\textbackslashn(95\\% CI) \\\\\n",
      "\\midrule\n",
      " Any dust &  8 &  1.56 (1.28-1.91) &  14 (12-17) \\\\\n",
      " Metal dust &  10 &  1.44 (1.25-1.65) &  8 (6-10) \\\\\n",
      " Wood dust &  11 &  1.66(1.25-2.2) &  4 (3-5) \\\\\n",
      " Agricultural dust &  6 &  1.68 (1.21-2.34) &  9 (6-12) \\\\\n",
      "\\bottomrule\n",
      "\\end{tabular}\n",
      "\n",
      "wooddusttable.csv\n",
      "\\begin{tabular}{lllll}\n",
      "\\toprule\n",
      "First author, year & Cases exposed \\textbackslashnn/N (\\%) &  OR or PMR\\textbackslashn(95\\% CI) &     PAR &                                                                                                                Notes \\\\\n",
      "\\midrule\n",
      " Scott, 1990 &  6/40 (15) &  2.94 (0.87-9.90) &  10.00\\% &  controls matched for age and sex \\\\\n",
      " Hubbard, 1996 &  30/218 (14) &  1.71 (1.01-2.92) &  5.30\\% &  questionnaire; adjusted for smoking and exposure to metal dust; PAR reported by authors \\\\\n",
      " Mullen, 1998 &  2/15 (13) &  3.30 (0.42-25.8) &  9.00\\% &  controls matched for age and sex \\\\\n",
      " Baumgartner, 2000 &  20/244 (8) &  1.6 (0.8-3.3) &  3.00\\% &  adjusted for age and smoking \\\\\n",
      " Miyake, 2005 &  5/102 (5) &  6.03 (0.32- 112.4)  &  4.00\\% &  no cases in 59 controls; substituted 0.5 to get OR \\\\\n",
      " Gustafson, 2007 &  22/140 (16) &  1.2 (0.65-2.23) &  3.00\\% &  stratified by sex, year of diagnosis, birth year, and smoking \\\\\n",
      " Awadalla, 2012 &  14/95 (15) &  2.56 (1.02-7.01) &  9.00\\% &  men; adjusted for age, residence, smoking \\\\\n",
      " Awadalla, 2012 &  8/106 (8) &  3.48 (0.67-18.16) &  8.00\\% &  women; adjusted for age, residence, smoking \\\\\n",
      " Paolocci, 2013 &  5/65 (8) &  1.11 (0.37-3.31) &  1.00\\% &  softwood dust; adjusted for age, gender, smoking \\\\\n",
      " Paolocci, 2013 &  4/65 (6) &  0.86 (0.26-2.78) &  NaN &  hardwood dust; adjusted for age, gender, smoking \\\\\n",
      " Koo, 2017 &  6/78 (8) &  2.51 (0.52-12.28) &  5.00\\% &  matched for age, sex, place of residence, model adjusted for environmental exposure, military exposure, and smoking \\\\\n",
      "\\bottomrule\n",
      "\\end{tabular}\n",
      "\n"
     ]
    }
   ],
   "source": [
    "for table in tables:\n",
    "    df = pd.read_csv('../metaanalysis/tables/{0}'.format(table))\n",
    "    print(table)\n",
    "    print(df.to_latex(index=False))\n",
    "    "
   ]
  },
  {
   "cell_type": "code",
   "execution_count": 11,
   "metadata": {
    "collapsed": true
   },
   "outputs": [],
   "source": [
    "df = pd.read_csv('../metaanalysis/tables/paptime.csv')"
   ]
  },
  {
   "cell_type": "code",
   "execution_count": 19,
   "metadata": {
    "collapsed": false
   },
   "outputs": [
    {
     "data": {
      "text/plain": [
       "pandas.core.series.Series"
      ]
     },
     "execution_count": 19,
     "metadata": {},
     "output_type": "execute_result"
    }
   ],
   "source": [
    "type(df['Reference\\nFirst author, year [language if not English]']"
   ]
  },
  {
   "cell_type": "code",
   "execution_count": 16,
   "metadata": {
    "collapsed": false
   },
   "outputs": [
    {
     "name": "stdout",
     "output_type": "stream",
     "text": [
      "\\begin{longtable}{llllll}\n",
      "\\toprule\n",
      "Reference\\textbackslashnFirst author, year [language if not English] &                                                           Study Type, Location if not U.S. &  Cases, N & Reported Occupational Exposure, \\textbackslashnn (\\%) & Reported Silica Exposure, \\textbackslashnn (\\%)* &                                                                                                                                                                                                   Type of Exposure \\\\\n",
      "\\midrule\n",
      "\\endhead\n",
      "\\midrule\n",
      "\\multicolumn{3}{r}{{Continued on next page}} \\\\\n",
      "\\midrule\n",
      "\\endfoot\n",
      "\n",
      "\\bottomrule\n",
      "\\endlastfoot\n",
      " Davidson, 196925\\textbackslashn(subsumes Rosen, 195824) &  Single center retrospective study (n=2) and literature review (n=137), multiple countries &  139 &  69 (50)** &  10 (7) &  Agricultural dusts and sprays, bakery flour dust, varnish, paint, petrol, cleaning fluids, wood dust, silica \\\\\n",
      " McEuen, 197827\\textbackslashn(further details in Abraham, 198626) &  Single center retrospective histopathology study &  37 &  13 (35) &  NR &  Cement dusts, oven cleaners, silica, hairsprays, insecticides, spray paints, metal fumes, soil particulates, silicates; history supplemented by tissue analysis \\\\\n",
      " Rubin, 198034 &  Single center retrospective study  &  13 &  2 (15) &  2 (15) &  Silica \\\\\n",
      " Kariman, 198428 &  Single center prospective study &  23 &  0 &  0 &  “None…had a history of unusual occupational exposure” \\\\\n",
      " Prakash, 198735 &  Single center retrospective study &  34 &  3 (9) &  2 (6) &  Silica, garden sprays, fertilizer manufacturing  \\\\\n",
      " Asamato, 199536\\textbackslashn[Japanese] &  Multi-center retrospective study, Japan &  68 &  10 (15) &  2 (3) &  Iron refinery (n=3), metal miners (n=2), pesticide, toluene, electrician, rug manufacturing, metal casting; one patient excluded due to silicosis \\\\\n",
      " Goldstein, 199837 &  Single center retrospective study  &  24 &  12 (50) &  0 &  Laborers without silica exposure (n=12) \\\\\n",
      " Kim, 199938 &  Single center retrospective study (n=5) and literature review (n=7), Korea &  12 &  4 (33) &  0 &  Farmers (n=2), seaman, mechanic \\\\\n",
      " Briens, 200230 [French] &  Multi-center retrospective study, France and Belgium &  41 &  16 (39) &  3 (7) &  Paint (n=3), silica (n=3), cement (n=2), wood dust, wool, epoxy resin, polyvinyl chloride, grain dust, zirconium, copper, welding \\\\\n",
      " Inoue, 200821 &  National registry, Japan &  199 &  52 (26) &  NR &  Dust  \\\\\n",
      " Xu, 200933 &  Literature review, China &  241 &  20 (8) &  NR &  Dust, metal, varnish, “etc.” \\\\\n",
      " Byun, 201029 &  Multi-center retrospective study, Korea &  38 &  0 &  0 &  “There were no cases of PAP due to occupational exposure.” \\\\\n",
      " Tazawa, 201039 &  Multi-center clinical trial, Japan &  48 &  19 (40) &  NR &  Dust  \\\\\n",
      " Bonella, 201123 &  Single center retrospective study, Germany &  70 &  36 (51) &  8 (11) &  Aluminum dust, bakery flour dust, cement dust, chlorine, cleaning products, gasoline fumes, paint, petroleum, saw dust, silica, synthetic plastic fumes, titanium, varnish (some patients had multiple exposures) \\\\\n",
      " Fang, 201240 &  Single center retrospective study, China &  25 &  9 (36) &  NR &  Dust, metal, silica, “etc.”\\textbackslashn \\\\\n",
      " Campo, 201341 &  Single center prospective study, Italy &  73 &  26 (36) &  10 (14) &  Inorganic dusts (silica, cement; n=19), pesticides (n=3), combustion products (n=2), organic dusts (n=1), photographic fixer (n=1) \\\\\n",
      " Fijolek, 201442 &  Single center retrospective study, Poland &  17 &  4 (24) &  0 &  Cement dust, wood dust, sawdust, mercaptans, sulfur, hydrogen chloride, pit-coal dust \\\\\n",
      " Ilkovich, 201432 &  Single center retrospective study, Russia &  68 &  40 (59) &  NR &  Chemical agents (acids, petrol, “etc.”) \\\\\n",
      " Akasaka, 201543 &  Multicenter retrospective therapeutic study, Japan &  31 &  8 (26) &  NR &  Dust \\\\\n",
      " Xiao, 201522 &  Single center prospective study, China &  45 &  17 (38) &  10 (22) &  Aluminum oxide, indium oxide, silica, ceramic tile polishing dust, cement powder dust, caustic soda powder, hydrogen chloride, emery wheel grinding dust \\\\\n",
      " Bai, 201631 &  Single center retrospective study, China  &  101 &  50 (50) &  NR &  Dust, fume, grease \\\\\n",
      " Deleanu, 201644 &  Single center retrospective study, Romania &  20 &  4 (20) &  1 (5) &  Asbestos, iron oxides, silica \\\\\n",
      " Hadda, 201645 &  Single center retrospective study (n=5) and literature review (n=30), India &  35 &  5 (14) &  2 (6) &  Cotton dust (n=2), sandstone (n=1),  glass cutting and fiber exposure (n=1), petrochemical worker (n=1) \\\\\n",
      " Mo, 201646 &  Single center retrospective study, China &  11 &  2 (18) &  NR &  Dust \\\\\n",
      " Guo, 201747 &  Single center prospective study, China &  37 &  18 (49) &  0 &  coal, chalk dust, dye, metal chip, macadam, paint, and gasoline \\\\\n",
      " Summary\\textbackslashnStatistics &  NaN &  Total, N &  n/N \\textbackslashn(mean \\%, median \\%) &  n/N \\textbackslashn(mean \\%, median \\%) &  NaN \\\\\n",
      " NaN &  NaN &  1450 &  439/1450 (30, 33) &  48/584 \\textbackslashn(6, 6) &  NaN \\\\\n",
      "\\end{longtable}\n",
      "\n"
     ]
    }
   ],
   "source": [
    "print(df.to_latex(index=False, longtable=True))"
   ]
  },
  {
   "cell_type": "code",
   "execution_count": null,
   "metadata": {
    "collapsed": true
   },
   "outputs": [],
   "source": []
  }
 ],
 "metadata": {
  "kernelspec": {
   "display_name": "Python 2",
   "language": "python",
   "name": "python2"
  },
  "language_info": {
   "codemirror_mode": {
    "name": "ipython",
    "version": 2
   },
   "file_extension": ".py",
   "mimetype": "text/x-python",
   "name": "python",
   "nbconvert_exporter": "python",
   "pygments_lexer": "ipython2",
   "version": "2.7.12"
  }
 },
 "nbformat": 4,
 "nbformat_minor": 2
}
